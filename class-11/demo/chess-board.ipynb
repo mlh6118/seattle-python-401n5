{
 "metadata": {
  "kernelspec": {
   "language": "python",
   "display_name": "Python 3",
   "name": "python3"
  },
  "language_info": {
   "name": "python",
   "version": "3.7.12",
   "mimetype": "text/x-python",
   "codemirror_mode": {
    "name": "ipython",
    "version": 3
   },
   "pygments_lexer": "ipython3",
   "nbconvert_exporter": "python",
   "file_extension": ".py"
  }
 },
 "nbformat_minor": 4,
 "nbformat": 4,
 "cells": [
  {
   "cell_type": "code",
   "source": [
    "# This Python 3 environment comes with many helpful analytics libraries installed\n",
    "# It is defined by the kaggle/python Docker image: https://github.com/kaggle/docker-python\n",
    "# For example, here's several helpful packages to load\n",
    "\n",
    "import numpy as np # linear algebra\n",
    "import pandas as pd # data processing, CSV file I/O (e.g. pd.read_csv)\n",
    "import matplotlib.pyplot as plt\n",
    "\n",
    "# Input data files are available in the read-only \"../input/\" directory\n",
    "# For example, running this (by clicking run or pressing Shift+Enter) will list all files under the input directory\n",
    "\n",
    "import os\n",
    "for dirname, _, filenames in os.walk('/kaggle/input'):\n",
    "    for filename in filenames:\n",
    "        print(os.path.join(dirname, filename))\n",
    "\n",
    "# You can write up to 20GB to the current directory (/kaggle/working/) that gets preserved as output when you create a version using \"Save & Run All\"\n",
    "# You can also write temporary files to /kaggle/temp/, but they won't be saved outside of the current session"
   ],
   "metadata": {
    "_uuid": "8f2839f25d086af736a60e9eeb907d3b93b6e0e5",
    "_cell_guid": "b1076dfc-b9ad-4769-8c92-a6c4dae69d19",
    "trusted": true,
    "pycharm": {
     "name": "#%%\n"
    }
   },
   "execution_count": 9,
   "outputs": [
    {
     "ename": "ModuleNotFoundError",
     "evalue": "No module named 'numpy'",
     "output_type": "error",
     "traceback": [
      "\u001B[0;31m---------------------------------------------------------------------------\u001B[0m",
      "\u001B[0;31mModuleNotFoundError\u001B[0m                       Traceback (most recent call last)",
      "\u001B[0;32m/var/folders/28/sd7fcx9x3yn_x23r4_3s2bv40000gn/T/ipykernel_64477/815600731.py\u001B[0m in \u001B[0;36m<module>\u001B[0;34m\u001B[0m\n\u001B[1;32m      3\u001B[0m \u001B[0;31m# For example, here's several helpful packages to load\u001B[0m\u001B[0;34m\u001B[0m\u001B[0;34m\u001B[0m\u001B[0;34m\u001B[0m\u001B[0m\n\u001B[1;32m      4\u001B[0m \u001B[0;34m\u001B[0m\u001B[0m\n\u001B[0;32m----> 5\u001B[0;31m \u001B[0;32mimport\u001B[0m \u001B[0mnumpy\u001B[0m \u001B[0;32mas\u001B[0m \u001B[0mnp\u001B[0m \u001B[0;31m# linear algebra\u001B[0m\u001B[0;34m\u001B[0m\u001B[0;34m\u001B[0m\u001B[0m\n\u001B[0m\u001B[1;32m      6\u001B[0m \u001B[0;32mimport\u001B[0m \u001B[0mpandas\u001B[0m \u001B[0;32mas\u001B[0m \u001B[0mpd\u001B[0m \u001B[0;31m# data processing, CSV file I/O (e.g. pd.read_csv)\u001B[0m\u001B[0;34m\u001B[0m\u001B[0;34m\u001B[0m\u001B[0m\n\u001B[1;32m      7\u001B[0m \u001B[0;32mimport\u001B[0m \u001B[0mmatplotlib\u001B[0m\u001B[0;34m.\u001B[0m\u001B[0mpyplot\u001B[0m \u001B[0;32mas\u001B[0m \u001B[0mplt\u001B[0m\u001B[0;34m\u001B[0m\u001B[0;34m\u001B[0m\u001B[0m\n",
      "\u001B[0;31mModuleNotFoundError\u001B[0m: No module named 'numpy'"
     ]
    }
   ]
  },
  {
   "cell_type": "markdown",
   "source": [
    "# This is my Kaggle Notebook"
   ],
   "metadata": {
    "pycharm": {
     "name": "#%% md\n"
    }
   }
  },
  {
   "cell_type": "code",
   "execution_count": null,
   "outputs": [],
   "source": [],
   "metadata": {
    "collapsed": false,
    "pycharm": {
     "name": "#%%\n"
    }
   }
  },
  {
   "cell_type": "code",
   "source": [
    "print('Hello World from Kaggle Notebook')"
   ],
   "metadata": {
    "execution": {
     "iopub.status.busy": "2022-06-22T03:09:20.826472Z",
     "iopub.execute_input": "2022-06-22T03:09:20.827195Z",
     "iopub.status.idle": "2022-06-22T03:09:20.842790Z",
     "shell.execute_reply.started": "2022-06-22T03:09:20.827149Z",
     "shell.execute_reply": "2022-06-22T03:09:20.841596Z"
    },
    "trusted": true,
    "pycharm": {
     "name": "#%%\n"
    }
   },
   "execution_count": null,
   "outputs": []
  },
  {
   "cell_type": "code",
   "source": [
    "print('Second Code BLock')"
   ],
   "metadata": {
    "execution": {
     "iopub.status.busy": "2022-06-22T03:09:20.844462Z",
     "iopub.execute_input": "2022-06-22T03:09:20.845360Z",
     "iopub.status.idle": "2022-06-22T03:09:20.855899Z",
     "shell.execute_reply.started": "2022-06-22T03:09:20.845323Z",
     "shell.execute_reply": "2022-06-22T03:09:20.855042Z"
    },
    "trusted": true,
    "pycharm": {
     "name": "#%%\n"
    }
   },
   "execution_count": null,
   "outputs": []
  },
  {
   "cell_type": "code",
   "source": [
    "message = 'Python is fun'"
   ],
   "metadata": {
    "execution": {
     "iopub.status.busy": "2022-06-22T03:09:20.857588Z",
     "iopub.execute_input": "2022-06-22T03:09:20.858167Z",
     "iopub.status.idle": "2022-06-22T03:09:20.867811Z",
     "shell.execute_reply.started": "2022-06-22T03:09:20.858133Z",
     "shell.execute_reply": "2022-06-22T03:09:20.866534Z"
    },
    "trusted": true,
    "pycharm": {
     "name": "#%%\n"
    }
   },
   "execution_count": null,
   "outputs": []
  },
  {
   "cell_type": "code",
   "source": [
    "print(message)"
   ],
   "metadata": {
    "execution": {
     "iopub.status.busy": "2022-06-22T03:09:20.871315Z",
     "iopub.execute_input": "2022-06-22T03:09:20.871977Z",
     "iopub.status.idle": "2022-06-22T03:09:20.881737Z",
     "shell.execute_reply.started": "2022-06-22T03:09:20.871931Z",
     "shell.execute_reply": "2022-06-22T03:09:20.880384Z"
    },
    "trusted": true,
    "pycharm": {
     "name": "#%%\n"
    }
   },
   "execution_count": null,
   "outputs": []
  },
  {
   "cell_type": "code",
   "source": [
    "import sys\n",
    "print(sys.version)"
   ],
   "metadata": {
    "execution": {
     "iopub.status.busy": "2022-06-22T03:09:52.949877Z",
     "iopub.execute_input": "2022-06-22T03:09:52.950262Z",
     "iopub.status.idle": "2022-06-22T03:09:52.956530Z",
     "shell.execute_reply.started": "2022-06-22T03:09:52.950231Z",
     "shell.execute_reply": "2022-06-22T03:09:52.955289Z"
    },
    "trusted": true,
    "pycharm": {
     "name": "#%%\n"
    }
   },
   "execution_count": null,
   "outputs": []
  },
  {
   "cell_type": "markdown",
   "source": [
    "## Fun with Numpy"
   ],
   "metadata": {
    "pycharm": {
     "name": "#%% md\n"
    }
   }
  },
  {
   "cell_type": "code",
   "source": [
    "# help(np.ones)\n",
    "grid = np.ones((8,8,3))\n",
    "# print(grid[0,0])\n",
    "print(grid)"
   ],
   "metadata": {
    "execution": {
     "iopub.status.busy": "2022-06-22T03:29:32.765041Z",
     "iopub.execute_input": "2022-06-22T03:29:32.765435Z",
     "iopub.status.idle": "2022-06-22T03:29:32.773688Z",
     "shell.execute_reply.started": "2022-06-22T03:29:32.765405Z",
     "shell.execute_reply": "2022-06-22T03:29:32.772821Z"
    },
    "trusted": true,
    "pycharm": {
     "name": "#%%\n"
    }
   },
   "execution_count": null,
   "outputs": []
  },
  {
   "cell_type": "code",
   "source": [
    "# help(plt.imshow)\n",
    "plt.imshow(grid)"
   ],
   "metadata": {
    "execution": {
     "iopub.status.busy": "2022-06-22T03:29:36.135220Z",
     "iopub.execute_input": "2022-06-22T03:29:36.136378Z",
     "iopub.status.idle": "2022-06-22T03:29:36.314693Z",
     "shell.execute_reply.started": "2022-06-22T03:29:36.136333Z",
     "shell.execute_reply": "2022-06-22T03:29:36.313568Z"
    },
    "trusted": true,
    "pycharm": {
     "name": "#%%\n"
    }
   },
   "execution_count": null,
   "outputs": []
  },
  {
   "cell_type": "code",
   "source": [
    "grid[0][1] = (0,0,0)"
   ],
   "metadata": {
    "execution": {
     "iopub.status.busy": "2022-06-22T03:30:20.429579Z",
     "iopub.execute_input": "2022-06-22T03:30:20.430008Z",
     "iopub.status.idle": "2022-06-22T03:30:20.435168Z",
     "shell.execute_reply.started": "2022-06-22T03:30:20.429973Z",
     "shell.execute_reply": "2022-06-22T03:30:20.434134Z"
    },
    "trusted": true,
    "pycharm": {
     "name": "#%%\n"
    }
   },
   "execution_count": null,
   "outputs": []
  },
  {
   "cell_type": "code",
   "source": [
    "plt.imshow(grid)"
   ],
   "metadata": {
    "execution": {
     "iopub.status.busy": "2022-06-22T03:30:39.209959Z",
     "iopub.execute_input": "2022-06-22T03:30:39.210452Z",
     "iopub.status.idle": "2022-06-22T03:30:39.388442Z",
     "shell.execute_reply.started": "2022-06-22T03:30:39.210415Z",
     "shell.execute_reply": "2022-06-22T03:30:39.387628Z"
    },
    "trusted": true,
    "pycharm": {
     "name": "#%%\n"
    }
   },
   "execution_count": null,
   "outputs": []
  },
  {
   "cell_type": "code",
   "source": [
    "grid[7][7] = (.3, .6, .8)\n",
    "plt.imshow(grid)"
   ],
   "metadata": {
    "execution": {
     "iopub.status.busy": "2022-06-22T03:33:00.764520Z",
     "iopub.execute_input": "2022-06-22T03:33:00.764944Z",
     "iopub.status.idle": "2022-06-22T03:33:00.948644Z",
     "shell.execute_reply.started": "2022-06-22T03:33:00.764896Z",
     "shell.execute_reply": "2022-06-22T03:33:00.947781Z"
    },
    "trusted": true,
    "pycharm": {
     "name": "#%%\n"
    }
   },
   "execution_count": null,
   "outputs": []
  },
  {
   "cell_type": "code",
   "source": [
    "green = (0, 1, 0)\n",
    "blue = (0, 0, 1)\n",
    "red = (1, 0, 0)\n",
    "for i in range(8):\n",
    "    grid[i][i] = green\n",
    "plt.imshow(grid)"
   ],
   "metadata": {
    "execution": {
     "iopub.status.busy": "2022-06-22T03:48:43.734492Z",
     "iopub.execute_input": "2022-06-22T03:48:43.735397Z",
     "iopub.status.idle": "2022-06-22T03:48:43.917044Z",
     "shell.execute_reply.started": "2022-06-22T03:48:43.735343Z",
     "shell.execute_reply": "2022-06-22T03:48:43.915739Z"
    },
    "trusted": true,
    "pycharm": {
     "name": "#%%\n"
    }
   },
   "execution_count": null,
   "outputs": []
  },
  {
   "cell_type": "code",
   "source": [
    "grid = np.ones((8,8,3))\n",
    "plt.imshow(grid)"
   ],
   "metadata": {
    "execution": {
     "iopub.status.busy": "2022-06-22T03:49:43.349764Z",
     "iopub.execute_input": "2022-06-22T03:49:43.350190Z",
     "iopub.status.idle": "2022-06-22T03:49:43.530516Z",
     "shell.execute_reply.started": "2022-06-22T03:49:43.350155Z",
     "shell.execute_reply": "2022-06-22T03:49:43.529209Z"
    },
    "trusted": true,
    "pycharm": {
     "name": "#%%\n"
    }
   },
   "execution_count": null,
   "outputs": []
  },
  {
   "cell_type": "code",
   "source": [
    "class Board:\n",
    "    def __init__(self):\n",
    "        self.grid = np.zeros((8,8,3))\n",
    "\n",
    "    def add_red(self, row, col):\n",
    "        pass\n",
    "\n",
    "    def add_blue(self, row, col):\n",
    "        pass\n",
    "\n",
    "    def render():\n",
    "        pass\n",
    "\n",
    "    def is_under_attack(self):\n",
    "        pass\n",
    "\n",
    "new_board = Board()\n",
    "plt.imshow(new_board.grid)\n"
   ],
   "metadata": {
    "execution": {
     "iopub.status.busy": "2022-06-22T03:53:49.979017Z",
     "iopub.execute_input": "2022-06-22T03:53:49.979402Z",
     "iopub.status.idle": "2022-06-22T03:53:50.169423Z",
     "shell.execute_reply.started": "2022-06-22T03:53:49.979372Z",
     "shell.execute_reply": "2022-06-22T03:53:50.168260Z"
    },
    "trusted": true,
    "pycharm": {
     "name": "#%%\n"
    }
   },
   "execution_count": null,
   "outputs": []
  }
 ]
}